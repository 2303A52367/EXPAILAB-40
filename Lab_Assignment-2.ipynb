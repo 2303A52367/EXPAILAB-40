{
  "cells": [
    {
      "cell_type": "markdown",
      "metadata": {
        "id": "view-in-github",
        "colab_type": "text"
      },
      "source": [
        "<a href=\"https://colab.research.google.com/github/2303A52367/EXPAILAB-40/blob/main/Lab_Assignment-2.ipynb\" target=\"_parent\"><img src=\"https://colab.research.google.com/assets/colab-badge.svg\" alt=\"Open In Colab\"/></a>"
      ]
    },
    {
      "cell_type": "code",
      "execution_count": null,
      "metadata": {
        "colab": {
          "background_save": true,
          "base_uri": "https://localhost:8080/"
        },
        "id": "PYa7v6m2_DL8",
        "outputId": "18250258-ba64-431b-8096-a4662c571302"
      },
      "outputs": [
        {
          "output_type": "stream",
          "name": "stdout",
          "text": [
            "Accuracy: 0.8135\n",
            "Precision: 0.6300268096514745\n",
            "Recall: 0.357958872810358\n",
            "F1: 0.4565322972316659\n",
            "ROC AUC: 0.6495362958035148\n"
          ]
        }
      ],
      "source": [
        "# Import libraries\n",
        "import pandas as pd\n",
        "import numpy as np\n",
        "from sklearn.model_selection import train_test_split\n",
        "from sklearn.ensemble import RandomForestClassifier\n",
        "from sklearn.preprocessing import StandardScaler, LabelEncoder\n",
        "from sklearn.metrics import accuracy_score, precision_score, recall_score, f1_score, roc_auc_score\n",
        "import shap\n",
        "import matplotlib.pyplot as plt\n",
        "\n",
        "# Load dataset\n",
        "df = pd.read_csv('UCI_Credit_Card.csv')\n",
        "\n",
        "# Drop duplicates and handle missing values\n",
        "df = df.drop_duplicates()\n",
        "df = df.dropna()\n",
        "\n",
        "# Identify categorical columns and encode if present\n",
        "cat_cols = df.select_dtypes(include=['object']).columns\n",
        "for col in cat_cols:\n",
        "    df[col] = LabelEncoder().fit_transform(df[col])\n",
        "\n",
        "# Feature selection\n",
        "X = df.drop('default.payment.next.month', axis=1)\n",
        "y = df['default.payment.next.month']\n",
        "\n",
        "# Normalize features\n",
        "scaler = StandardScaler()\n",
        "X_scaled = scaler.fit_transform(X)\n",
        "\n",
        "# Train-test split\n",
        "X_train, X_test, y_train, y_test = train_test_split(X_scaled, y, test_size=0.2, random_state=42)\n",
        "\n",
        "# Model training\n",
        "clf = RandomForestClassifier(n_estimators=100, random_state=42)\n",
        "clf.fit(X_train, y_train)\n",
        "\n",
        "# Model evaluation\n",
        "y_pred = clf.predict(X_test)\n",
        "print(\"Accuracy:\", accuracy_score(y_test, y_pred))\n",
        "print(\"Precision:\", precision_score(y_test, y_pred))\n",
        "print(\"Recall:\", recall_score(y_test, y_pred))\n",
        "print(\"F1:\", f1_score(y_test, y_pred))\n",
        "print(\"ROC AUC:\", roc_auc_score(y_test, y_pred))\n",
        "\n",
        "# SHAP Analysis\n",
        "explainer = shap.TreeExplainer(clf)\n",
        "shap_values = explainer.shap_values(X_test)\n",
        "\n",
        "# Save SHAP plots\n",
        "shap.summary_plot(shap_values[1], X_test, feature_names=X.columns, show=False)\n",
        "plt.savefig(\"summary_plot.png\")\n",
        "plt.clf()\n",
        "\n",
        "shap.force_plot(explainer.expected_value[1], shap_values[1], X_test, feature_names=X.columns, matplotlib=True, show=False)\n",
        "plt.savefig(\"force_plot.png\")\n",
        "plt.clf()\n",
        "\n",
        "shap.waterfall_plot(shap.Explanation(values=shap_values[1], base_values=explainer.expected_value[1], data=X_test, feature_names=X.columns), show=False)\n",
        "plt.savefig(\"waterfall_plot.png\")\n",
        "plt.clf()\n",
        "\n",
        "# Compare SHAP and Built-in Feature Importances\n",
        "rf_importance = clf.feature_importances_\n",
        "shap_global_importance = np.abs(shap_values[1]).mean(axis=0)\n",
        "top5_features = pd.Series(shap_global_importance, index=X.columns).sort_values(ascending=False)[:5]\n",
        "print(\"Top 5 SHAP features:\\n\", top5_features)\n"
      ]
    }
  ],
  "metadata": {
    "colab": {
      "provenance": [],
      "authorship_tag": "ABX9TyPj58+LHGZjQIVZlQ4bETb7",
      "include_colab_link": true
    },
    "kernelspec": {
      "display_name": "Python 3",
      "name": "python3"
    },
    "language_info": {
      "name": "python"
    }
  },
  "nbformat": 4,
  "nbformat_minor": 0
}